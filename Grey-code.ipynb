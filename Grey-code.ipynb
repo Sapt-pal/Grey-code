{
 "cells": [
  {
   "cell_type": "code",
   "execution_count": 2,
   "id": "6f963e71-4a67-4952-a4d1-285257b42b71",
   "metadata": {},
   "outputs": [
    {
     "name": "stdout",
     "output_type": "stream",
     "text": [
      "hey!\n"
     ]
    }
   ],
   "source": [
    "print(\"hey!\")"
   ]
  },
  {
   "cell_type": "markdown",
   "id": "c06ee4c1-62e1-4f27-815f-4d637d6231e5",
   "metadata": {},
   "source": [
    "### n = 3 bits Grey Code"
   ]
  },
  {
   "cell_type": "raw",
   "id": "4e7b054b-c289-4951-bac5-996d3d940958",
   "metadata": {},
   "source": [
    "[2] [1] [0]\n",
    " 0   0   0\n",
    " 0   0   1    ##### Toggle [0]\n",
    " 0   1   1    ##### Toggle [1]\n",
    " 0   1   0    ##### Toggle [0]\n",
    " 1   1   0    ##### Toggle [2]\n",
    " 1   1   1    ##### Toggle [0]\n",
    " 1   0   1    ##### Toggle [1]\n",
    " 1   0   0    ##### Toggle [0]"
   ]
  },
  {
   "cell_type": "code",
   "execution_count": 1,
   "id": "fb0d43f4-6dea-4528-b7c9-c772f88a9941",
   "metadata": {},
   "outputs": [],
   "source": [
    "## n = 4 bits Grey Code"
   ]
  },
  {
   "cell_type": "raw",
   "id": "7954fe5c-e11e-4ec0-8254-954d991e037b",
   "metadata": {},
   "source": [
    "#### Start\n",
    "0\n",
    "1\n",
    "0\n",
    "2\n",
    "0\n",
    "1\n",
    "0\n",
    "3\n",
    "0\n",
    "1\n",
    "0\n",
    "2\n",
    "0\n",
    "1\n",
    "0\n"
   ]
  },
  {
   "cell_type": "code",
   "execution_count": 26,
   "id": "3ad140c9-239a-465b-92c2-8f69ebbe610a",
   "metadata": {},
   "outputs": [
    {
     "name": "stdin",
     "output_type": "stream",
     "text": [
      "Enter n for n-bit toggling logic o/p:  4\n"
     ]
    },
    {
     "name": "stdout",
     "output_type": "stream",
     "text": [
      "#Start\n",
      "0\n",
      "\n",
      "1\n",
      "\n",
      "0\n",
      "\n",
      "2\n",
      "\n",
      "0\n",
      "\n",
      "1\n",
      "\n",
      "0\n",
      "\n",
      "3\n",
      "\n",
      "0\n",
      "\n",
      "2\n",
      "\n",
      "0\n",
      "\n",
      "1\n",
      "\n",
      "0\n",
      "\n"
     ]
    }
   ],
   "source": [
    "### Printing pattern for n bit grey code toggles\n",
    "n = int(input(\"Enter n for n-bit toggling logic o/p: \"))\n",
    "print(\"#Start\")\n",
    "print(\"0\\n\")\n",
    "for i in range(1, n):\n",
    "    print(f\"{i}\\n\")\n",
    "    print(\"0\\n\")\n",
    "    if i>1:\n",
    "        for j in range(i-1, 0, -1):\n",
    "            print(f\"{j}\\n\")\n",
    "            print(\"0\\n\")"
   ]
  },
  {
   "cell_type": "code",
   "execution_count": 17,
   "id": "4a41a000-cf64-44a2-bccb-352f70e67a71",
   "metadata": {},
   "outputs": [
    {
     "name": "stdout",
     "output_type": "stream",
     "text": [
      "5U\n",
      "\n",
      "4U\n",
      "\n",
      "3U\n",
      "\n",
      "2U\n",
      "\n",
      "1U\n",
      "\n"
     ]
    }
   ],
   "source": [
    "for i in range(5,0,-1):\n",
    "    print(f\"{i}\"+\"U\\n\")\n",
    "    "
   ]
  },
  {
   "cell_type": "code",
   "execution_count": 51,
   "id": "238daa3f-c7b0-4a5e-868d-5a5a18098a32",
   "metadata": {},
   "outputs": [
    {
     "name": "stdin",
     "output_type": "stream",
     "text": [
      "Enter n for n-bit toggling logic o/p:  3\n"
     ]
    },
    {
     "name": "stdout",
     "output_type": "stream",
     "text": [
      "#Start\n",
      "6\n",
      "6\n",
      "6\n",
      "[0, 1, 0, 2, 0, 1, 0, 2, 0]\n"
     ]
    },
    {
     "data": {
      "text/plain": [
       "'\\nprint(\"0\\n\")\\nfor i in range(1, n):\\n    print(f\"{i}\\n\")\\n    print(\"0\\n\")\\n    if i>1:\\n        for j in range(i-1, 0, -1):\\n            print(f\"{j}\\n\")\\n            print(\"0\\n\")\\n'"
      ]
     },
     "execution_count": 51,
     "metadata": {},
     "output_type": "execute_result"
    }
   ],
   "source": [
    "### Printing pattern for n bit grey code toggles\n",
    "n = int(input(\"Enter n for n-bit toggling logic o/p: \"))\n",
    "lst = []\n",
    "print(\"#Start\")\n",
    "leng = len(L)\n",
    "lst.append(0);print(leng)\n",
    "for i in range(1, n):\n",
    "    leng = len(L);print(leng)\n",
    "    lst.append(i)\n",
    "    lst.append(0)\n",
    "    if i>1:\n",
    "        lst.extend(lst[1:leng-1])\n",
    "print(lst)\n",
    "'''\n",
    "print(\"0\\n\")\n",
    "for i in range(1, n):\n",
    "    print(f\"{i}\\n\")\n",
    "    print(\"0\\n\")\n",
    "    if i>1:\n",
    "        for j in range(i-1, 0, -1):\n",
    "            print(f\"{j}\\n\")\n",
    "            print(\"0\\n\")\n",
    "'''"
   ]
  },
  {
   "cell_type": "markdown",
   "id": "883fb63a-ef19-40cc-a8ab-f53fcf43edd8",
   "metadata": {},
   "source": [
    "# Grey Code logic"
   ]
  },
  {
   "cell_type": "code",
   "execution_count": 39,
   "id": "075f313d-94a8-4be1-8f87-7001a367c646",
   "metadata": {},
   "outputs": [
    {
     "name": "stdout",
     "output_type": "stream",
     "text": [
      "[2, 4, 6, 8]\n",
      "4\n",
      "[2, 4, 6, 8, 4, 6]\n"
     ]
    }
   ],
   "source": [
    "L = []; c = 0\n",
    "L.append(2)\n",
    "L.append(4)\n",
    "L.append(6)\n",
    "L.append(8)\n",
    "print(L)\n",
    "print(len(L))\n",
    "L.extend(L[1:len(L)-1])\n",
    "print(L)\n"
   ]
  },
  {
   "cell_type": "code",
   "execution_count": 56,
   "id": "6d40efe7-9b81-47ed-b043-d18482c992a3",
   "metadata": {},
   "outputs": [
    {
     "name": "stdin",
     "output_type": "stream",
     "text": [
      "Enter n for n-bit toggling logic o/p:  5\n"
     ]
    },
    {
     "name": "stdout",
     "output_type": "stream",
     "text": [
      "#Start\n",
      "0\n",
      "1\n",
      "3\n",
      "7\n",
      "15\n",
      "[0, 1, 0, 2, 0, 1, 0, 3, 0, 1, 0, 2, 0, 1, 0, 4, 0, 1, 0, 2, 0, 1, 0, 3, 0, 1, 0, 2, 0, 1, 0]\n"
     ]
    }
   ],
   "source": [
    "### Printing pattern for n bit grey code toggles\n",
    "n = int(input(\"Enter n for n-bit toggling logic o/p: \"))\n",
    "lst = []\n",
    "print(\"#Start\")\n",
    "leng = len(lst)\n",
    "lst.append(0);print(leng)\n",
    "for i in range(1, n):\n",
    "    leng = len(lst);print(leng)\n",
    "    lst.append(i)\n",
    "    lst.append(0)\n",
    "    if i>1:\n",
    "        lst.extend(lst[1:leng])\n",
    "print(lst)"
   ]
  },
  {
   "cell_type": "markdown",
   "id": "85223505-1fd8-4549-bc2e-e0fe55ab4753",
   "metadata": {},
   "source": [
    "## Readied Toggling sequence"
   ]
  },
  {
   "cell_type": "code",
   "execution_count": 60,
   "id": "f434a6e5-287d-4bc3-82c0-6d6b279be12d",
   "metadata": {},
   "outputs": [
    {
     "name": "stdin",
     "output_type": "stream",
     "text": [
      "Enter n for n-bit Grey code toggling logic o/p:  4\n"
     ]
    },
    {
     "name": "stdout",
     "output_type": "stream",
     "text": [
      "#Start\n",
      "0\n",
      "1\n",
      "0\n",
      "2\n",
      "0\n",
      "1\n",
      "0\n",
      "3\n",
      "0\n",
      "1\n",
      "0\n",
      "2\n",
      "0\n",
      "1\n",
      "0\n"
     ]
    }
   ],
   "source": [
    "n = int(input(\"Enter n for n-bit Grey code toggling logic o/p: \"))\n",
    "lst = []\n",
    "print(\"#Start\")\n",
    "leng = len(lst)\n",
    "lst.append(0)\n",
    "for i in range(1, n):\n",
    "    leng = len(lst)\n",
    "    lst.append(i)\n",
    "    lst.append(0)\n",
    "    if i>1:\n",
    "        lst.extend(lst[1:leng])\n",
    "print(*lst , sep=\"\\n\")"
   ]
  },
  {
   "cell_type": "code",
   "execution_count": null,
   "id": "793e289f-4cd6-489e-9bec-20124ac3ddd2",
   "metadata": {},
   "outputs": [],
   "source": [
    "## Exploring Rotation approach to generate all possible Grey code\n",
    "n = int(input(\"Enter n for n-bit Grey code toggling logic o/p: \"))\n",
    "lst = []\n",
    "print(\"#Start\")\n",
    "leng = len(lst)\n",
    "lst.append(0)\n",
    "for i in range(1, n):\n",
    "    leng = len(lst)\n",
    "    lst.append(i)\n",
    "    lst.append(0)\n",
    "    if i>1:\n",
    "        lst.extend(lst[1:leng])\n",
    "print(*lst, sep=\"\\n\")\n",
    "\n",
    "for i in range(1, n):\n",
    "    print(f\"\\nGrey code #{i}: \")\n",
    "    for j in lst:\n",
    "        indx = j + i\n",
    "        if indx <= n-1:\n",
    "            print(f\"{indx}\\n\")\n",
    "        else:\n",
    "            print(f\"{indx-(n)}\\n\")"
   ]
  },
  {
   "cell_type": "markdown",
   "id": "f82dfa5e-b250-41c7-9cd4-c5c1ad07a016",
   "metadata": {},
   "source": [
    "## Implementing toggling sequence"
   ]
  },
  {
   "cell_type": "code",
   "execution_count": 81,
   "id": "00107ff3-476c-4eaf-aaf4-5d22cb17e302",
   "metadata": {},
   "outputs": [
    {
     "name": "stdin",
     "output_type": "stream",
     "text": [
      "Enter n for n-bit Grey code toggling logic o/p:  3\n"
     ]
    },
    {
     "name": "stdout",
     "output_type": "stream",
     "text": [
      "Grey code type1: \n",
      "\n",
      "[0, 0, 0]\n",
      "\n",
      "[0, 0, 1]\n",
      "\n",
      "[0, 1, 1]\n",
      "\n",
      "[0, 1, 0]\n",
      "\n",
      "[1, 1, 0]\n",
      "\n",
      "[1, 1, 1]\n",
      "\n",
      "[1, 0, 1]\n",
      "\n",
      "[1, 0, 0]\n",
      "\n",
      "Grey code type#2:\n",
      "[0, 0, 0]\n",
      "\n",
      "[0, 1, 0]\n",
      "\n",
      "[1, 1, 0]\n",
      "\n",
      "[1, 0, 0]\n",
      "\n",
      "[1, 0, 1]\n",
      "\n",
      "[1, 1, 1]\n",
      "\n",
      "[0, 1, 1]\n",
      "\n",
      "[0, 0, 1]\n",
      "\n",
      "Grey code type#3:\n",
      "[0, 0, 0]\n",
      "\n",
      "[1, 0, 0]\n",
      "\n",
      "[1, 0, 1]\n",
      "\n",
      "[0, 0, 1]\n",
      "\n",
      "[0, 1, 1]\n",
      "\n",
      "[1, 1, 1]\n",
      "\n",
      "[1, 1, 0]\n",
      "\n",
      "[0, 1, 0]\n",
      "\n"
     ]
    }
   ],
   "source": [
    "def toggler(Lst, x):\n",
    "    #print(f\"Received: {Lst}, {x}\")\n",
    "    if Lst[x] == 0:\n",
    "        Lst[x] = 1\n",
    "    else:\n",
    "        Lst[x] = 0\n",
    "    return Lst\n",
    "    \n",
    "\n",
    "#main\n",
    "grey_list = [0,0,0]\n",
    "n = int(input(\"Enter n for n-bit Grey code toggling logic o/p: \"))\n",
    "tgle_lst = []\n",
    "tgle_lst.append(0)\n",
    "for i in range(1, n):\n",
    "    leng = len(tgle_lst)\n",
    "    tgle_lst.append(i)\n",
    "    tgle_lst.append(0)\n",
    "    if i>1:\n",
    "        tgle_lst.extend(tgle_lst[1:leng])\n",
    "print(\"Grey code type1: \\n\")\n",
    "print(f\"{grey_list[::-1]}\\n\")\n",
    "for i in tgle_lst:\n",
    "    grey_list = toggler(grey_list, i)\n",
    "    print(f\"{grey_list[::-1]}\\n\")\n",
    "for i in range(1, n):\n",
    "    grey_list = [0,0,0]\n",
    "    print(f\"Grey code type#{i+1}:\\n{grey_list}\\n\")\n",
    "    for j in tgle_lst:\n",
    "        indx = j + i\n",
    "        if indx > n-1:\n",
    "            indx = indx-n\n",
    "        grey_list = toggler(grey_list, indx)\n",
    "        print(f\"{grey_list[::-1]}\\n\")\n",
    "        "
   ]
  },
  {
   "cell_type": "code",
   "execution_count": 75,
   "id": "b3f2e8d6-53d7-489d-8aea-7013058af6a0",
   "metadata": {},
   "outputs": [
    {
     "name": "stdout",
     "output_type": "stream",
     "text": [
      "[5, 4, 3]\n"
     ]
    }
   ],
   "source": [
    "L = [3,4,5]\n",
    "print(L[::-1])"
   ]
  },
  {
   "cell_type": "code",
   "execution_count": null,
   "id": "0b80e201-80c0-42a6-828a-f7160653d7eb",
   "metadata": {},
   "outputs": [],
   "source": []
  }
 ],
 "metadata": {
  "kernelspec": {
   "display_name": "Python 3 (ipykernel)",
   "language": "python",
   "name": "python3"
  },
  "language_info": {
   "codemirror_mode": {
    "name": "ipython",
    "version": 3
   },
   "file_extension": ".py",
   "mimetype": "text/x-python",
   "name": "python",
   "nbconvert_exporter": "python",
   "pygments_lexer": "ipython3",
   "version": "3.10.12"
  }
 },
 "nbformat": 4,
 "nbformat_minor": 5
}
